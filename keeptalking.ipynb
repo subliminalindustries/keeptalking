{
 "cells": [
  {
   "cell_type": "code",
   "execution_count": 2,
   "id": "7024809f-1905-414f-a7ae-555fbaf5a7a8",
   "metadata": {},
   "outputs": [],
   "source": [
    "import audiofile"
   ]
  },
  {
   "cell_type": "code",
   "execution_count": 3,
   "id": "93304324-9ba7-4439-ad7e-0cb2e269b147",
   "metadata": {},
   "outputs": [],
   "source": [
    "import os"
   ]
  },
  {
   "cell_type": "code",
   "execution_count": 4,
   "id": "5b260990-1e4e-4f32-8dcb-fe33bfcc6c45",
   "metadata": {},
   "outputs": [],
   "source": [
    "import numpy as np"
   ]
  },
  {
   "cell_type": "code",
   "execution_count": 5,
   "id": "abd889d3-2ad6-4698-b443-845eada7ba77",
   "metadata": {},
   "outputs": [],
   "source": [
    "import matplotlib.pyplot as plt"
   ]
  },
  {
   "cell_type": "code",
   "execution_count": 6,
   "id": "c3c5dd46-5087-4146-b3d3-ce958780251d",
   "metadata": {},
   "outputs": [],
   "source": [
    "import matplotlib.lines as plt_lines"
   ]
  },
  {
   "cell_type": "code",
   "execution_count": 7,
   "id": "0c19a37a-a0d5-4bba-9b68-aea1bbf770d0",
   "metadata": {},
   "outputs": [],
   "source": [
    "from scipy.fft import rfft, irfft"
   ]
  },
  {
   "cell_type": "code",
   "execution_count": 8,
   "id": "d0190b62-fe97-4db8-b5f8-36633f37a0e7",
   "metadata": {},
   "outputs": [],
   "source": [
    "from scipy.signal import hilbert, savgol_filter, spectrogram"
   ]
  },
  {
   "cell_type": "code",
   "execution_count": 9,
   "id": "5b8cf25a-3a0b-4172-90d3-bd0a2998e222",
   "metadata": {},
   "outputs": [],
   "source": [
    "from sklearn.preprocessing import minmax_scale"
   ]
  },
  {
   "cell_type": "code",
   "execution_count": 10,
   "id": "ff05188b-22b7-465c-8b3b-7bda09fb5b76",
   "metadata": {},
   "outputs": [
    {
     "data": {
      "text/plain": [
       "(353933349,)"
      ]
     },
     "execution_count": 10,
     "metadata": {},
     "output_type": "execute_result"
    }
   ],
   "source": [
    "AUDIO_FILE = '/Users/danielazulay/Developer/subliminalindustries/recordings/audio/HearBoost Phone/14-6-2023/2023-06-14_1'\n",
    "signal, fs = audiofile.read(f'{AUDIO_FILE}.wav')\n",
    "if signal.ndim == 2 and signal.shape[0] == 2:\n",
    "    signal = signal[0]\n",
    "signal = minmax_scale(signal, (-1., 1.))\n",
    "signal.shape"
   ]
  },
  {
   "cell_type": "code",
   "execution_count": 11,
   "id": "914094dd-9eac-4087-aa3c-bf9941a43155",
   "metadata": {},
   "outputs": [],
   "source": [
    "def entropy(data):\n",
    "    if data.size < 2:\n",
    "        return 0.\n",
    "        \n",
    "    data = data[data.nonzero()]\n",
    "    P = data / np.sum(data)\n",
    "    H = -np.sum(P * np.log2(P))\n",
    "    return H / np.log2(24)"
   ]
  },
  {
   "cell_type": "code",
   "execution_count": 13,
   "id": "c3f7dc60-3983-47ae-a0e8-dcb12b8c557a",
   "metadata": {},
   "outputs": [],
   "source": [
    "def fft_ssss_enhancer(data, fs, n=512, ts=32):\n",
    "    print(f'- data contains {data.shape[0]} samples')\n",
    "\n",
    "    F = []\n",
    "    for s in range(0, data.size-1, n):\n",
    "        d = min(data.size-1, n)\n",
    "        F.append(rfft(data[s:s+d], n=n)[1:])\n",
    "    F = np.array(F).T\n",
    "    (f, t) = F.shape\n",
    "    \n",
    "    # print(f'- calculating spectrogram (fs={fs}, N={n})..')\n",
    "    # f, t, Pxx = spectrogram(x=data, fs=fs, nfft=n, mode='psd')\n",
    "    \n",
    "    H = np.ndarray(shape=F.shape) # horizontal spectral entropy\n",
    "    V = np.ndarray(shape=F.shape) # vertical spectral entropy\n",
    "\n",
    "    # TODO: use complex spectrogram and multiply real part with V and H then add imaginary part from original to preserve phase information.\n",
    "    print(f\"- calculating horizontal spectral entropy..\")\n",
    "    for freq in range(0, f-1):\n",
    "        e = np.ndarray(shape=(t,))\n",
    "        e.fill(entropy(F[freq, :]).real)\n",
    "        H[freq, :] = e\n",
    "        \n",
    "    # print(f'- calculating vertical spectral entropy..')\n",
    "    # for step in range(0, t-1):\n",
    "    #     e = np.ndarray(shape=(f,))\n",
    "    #     e.fill(entropy(F[:, step]).real)\n",
    "    #     V[:, step] = e\n",
    "\n",
    "    print(f'- calculating inter-band entropy difference measure..')\n",
    "    smallfloat = np.finfo(np.float64).tiny\n",
    "    #E = minmax_scale(H * V, (0., 1.))\n",
    "    E = minmax_scale(H, (0., 1.))\n",
    "    # E = minmax_scale(V, (0., 1.))\n",
    "\n",
    "    bands = np.copy(E)\n",
    "    for freq in range(0, f-1):\n",
    "        for cfreq in range(0, f-1):\n",
    "            if cfreq == freq:\n",
    "                bands[cfreq, :] = E[cfreq, :]\n",
    "                continue\n",
    "                \n",
    "            bands[cfreq, :] = np.abs(np.square(np.sqrt(np.nan_to_num(E[cfreq, :], nan=smallfloat, posinf=1.-smallfloat, neginf=0.+smallfloat))\n",
    "                                               - np.sqrt(np.nan_to_num(E[freq, :], nan=smallfloat, posinf=1.-smallfloat, neginf=0.+smallfloat))))\n",
    "    E = minmax_scale(bands, (0., 1.))\n",
    "\n",
    "    # print(f'- filtering entropy..')\n",
    "    # for freq in range(0, f-1):\n",
    "    #     E[freq, :] = 1-savgol_filter(E[freq, :], t, 2)\n",
    "\n",
    "    # for step in range(0, t-1):\n",
    "    #     E[:, step] = 1-savgol_filter(E[:, step], f, 2)\n",
    "    \n",
    "    print('- multiplying in frequency domain..')\n",
    "    for freq in range(0, f-1):\n",
    "        F[freq] = F[freq] * E[freq]\n",
    "        \n",
    "    print('- applying inverse fft..')\n",
    "    outE = []\n",
    "    out = []\n",
    "    for step in range(0, t-1):\n",
    "        outE.append(irfft(E[:, step], n=n))\n",
    "        out.append(irfft(F[:, step], n=n))\n",
    "        \n",
    "    out = np.block(out)\n",
    "    outE = np.block(outE)\n",
    "    out = minmax_scale(np.interp(np.linspace(0, out.size-1, num=data.shape[0]), np.arange(out.size), out), (-1., 1.))\n",
    "    outE = minmax_scale(np.interp(np.linspace(0, outE.size-1, num=data.shape[0]), np.arange(outE.size), outE), (-1., 1.))\n",
    "    print(out.shape, outE.shape)\n",
    "\n",
    "    return (out, outE)"
   ]
  },
  {
   "cell_type": "code",
   "execution_count": 14,
   "id": "7758cf95-6649-4269-88ab-ad0bf46ad143",
   "metadata": {},
   "outputs": [
    {
     "name": "stdout",
     "output_type": "stream",
     "text": [
      "- data contains 353933349 samples\n",
      "- calculating horizontal spectral entropy..\n",
      "- calculating inter-band entropy difference measure..\n",
      "- multiplying in frequency domain..\n",
      "- applying inverse fft..\n",
      "(353933349,) (353933349,)\n"
     ]
    }
   ],
   "source": [
    "out, e = fft_ssss_enhancer(signal, fs, n=1024, ts=32)"
   ]
  },
  {
   "cell_type": "code",
   "execution_count": null,
   "id": "2c2256fb-d03d-4506-bd40-eae1eefc512f",
   "metadata": {},
   "outputs": [],
   "source": [
    "f = plt.figure()\n",
    "f.subplots_adjust(left=0.1, right=0.9, top=2.9, hspace=0.6)\n",
    "f.set_figheight(6)\n",
    "f.set_figwidth(12)\n",
    "plt.suptitle(f'Analysis of \"{AUDIO_FILE}.wav\"', y=3.)\n",
    "\n",
    "T = np.linspace(0, signal.size / fs, signal.size, endpoint=False)\n",
    "ax_sig = f.add_subplot(511)\n",
    "ax_sig.margins(x=0)\n",
    "ax_sig.set_ylim(bottom=-1., top = 1.)\n",
    "ax_sig.set_title('Input Signal')\n",
    "ax_sig.set_ylabel('Amplitude')\n",
    "ax_sig.set_xlabel('Time (s)')\n",
    "ax_sig.plot(T, signal, color='#333333', linewidth=.1)\n",
    "\n",
    "ax_psd_spec = f.add_subplot(512)\n",
    "ax_psd_spec.margins(x=0)\n",
    "ax_psd_spec.set_title('Input Signal PSD Spectrum')\n",
    "ax_psd_spec.set_ylabel('Frequency (Hz)')\n",
    "ax_psd_spec.set_xlabel('Time (s)')\n",
    "ax_psd_spec.specgram(signal, NFFT=1024, Fs=fs, window=np.bartlett(1024), noverlap=900, mode='psd', cmap='nipy_spectral')\n",
    "\n",
    "T = np.linspace(0, e.size / fs, e.size, endpoint=False)\n",
    "ax_ent = f.add_subplot(513)\n",
    "ax_ent.margins(x=0)\n",
    "ax_ent.set_ylim(bottom=0., top = 1.)\n",
    "ax_ent.set_title('Spectral Entropy')\n",
    "ax_ent.set_ylabel('Entropy')\n",
    "ax_ent.set_xlabel('Time (s)')\n",
    "ax_ent.plot(T, e, color='#333333', linewidth=.1)\n",
    "\n",
    "ax_se = f.add_subplot(514)\n",
    "ax_se.margins(x=0)\n",
    "ax_se.set_ylim(bottom=-1., top = 1.)\n",
    "ax_se.set_title('Output Signal')\n",
    "ax_se.set_ylabel('Amplitude')\n",
    "ax_se.set_xlabel('Time (s)')\n",
    "ax_se.plot(T, out, color='magenta', linewidth=.1)\n",
    "\n",
    "ax_psd_spec = f.add_subplot(515)\n",
    "ax_psd_spec.margins(x=0)\n",
    "ax_psd_spec.set_title('Output Signal PSD Spectrum')\n",
    "ax_psd_spec.set_ylabel('Frequency (Hz)')\n",
    "ax_psd_spec.set_xlabel('Time (s)')\n",
    "ax_psd_spec.specgram(out, NFFT=1024, Fs=fs, window=np.bartlett(1024), noverlap=900, mode='psd', cmap='nipy_spectral')\n",
    "\n",
    "print()"
   ]
  },
  {
   "cell_type": "code",
   "execution_count": 1,
   "id": "d21abb59-c133-413d-a903-386ef15d9715",
   "metadata": {},
   "outputs": [
    {
     "ename": "NameError",
     "evalue": "name 'os' is not defined",
     "output_type": "error",
     "traceback": [
      "\u001b[0;31m---------------------------------------------------------------------------\u001b[0m",
      "\u001b[0;31mNameError\u001b[0m                                 Traceback (most recent call last)",
      "Cell \u001b[0;32mIn[1], line 1\u001b[0m\n\u001b[0;32m----> 1\u001b[0m \u001b[38;5;28;01mif\u001b[39;00m \u001b[43mos\u001b[49m\u001b[38;5;241m.\u001b[39mpath\u001b[38;5;241m.\u001b[39misfile(\u001b[38;5;124mf\u001b[39m\u001b[38;5;124m'\u001b[39m\u001b[38;5;132;01m{\u001b[39;00mAUDIO_FILE\u001b[38;5;132;01m}\u001b[39;00m\u001b[38;5;124m-entropy.wav\u001b[39m\u001b[38;5;124m'\u001b[39m):\n\u001b[1;32m      2\u001b[0m     os\u001b[38;5;241m.\u001b[39mremove(\u001b[38;5;124mf\u001b[39m\u001b[38;5;124m'\u001b[39m\u001b[38;5;132;01m{\u001b[39;00mAUDIO_FILE\u001b[38;5;132;01m}\u001b[39;00m\u001b[38;5;124m-entropy.wav\u001b[39m\u001b[38;5;124m'\u001b[39m)\n\u001b[1;32m      3\u001b[0m audiofile\u001b[38;5;241m.\u001b[39mwrite(\u001b[38;5;124mf\u001b[39m\u001b[38;5;124m'\u001b[39m\u001b[38;5;132;01m{\u001b[39;00mAUDIO_FILE\u001b[38;5;132;01m}\u001b[39;00m\u001b[38;5;124m-entropy.wav\u001b[39m\u001b[38;5;124m'\u001b[39m, out, fs, bit_depth\u001b[38;5;241m=\u001b[39m\u001b[38;5;241m24\u001b[39m, normalize\u001b[38;5;241m=\u001b[39m\u001b[38;5;28;01mTrue\u001b[39;00m)\n",
      "\u001b[0;31mNameError\u001b[0m: name 'os' is not defined"
     ]
    }
   ],
   "source": [
    "if os.path.isfile(f'{AUDIO_FILE}-entropy.wav'):\n",
    "    os.remove(f'{AUDIO_FILE}-entropy.wav')\n",
    "audiofile.write(f'{AUDIO_FILE}-entropy.wav', out, fs, bit_depth=24, normalize=True)"
   ]
  },
  {
   "cell_type": "code",
   "execution_count": null,
   "id": "50531474-5be0-4bc6-b5cf-8e3c92927e32",
   "metadata": {},
   "outputs": [],
   "source": []
  }
 ],
 "metadata": {
  "kernelspec": {
   "display_name": "Python 3 (ipykernel)",
   "language": "python",
   "name": "python3"
  },
  "language_info": {
   "codemirror_mode": {
    "name": "ipython",
    "version": 3
   },
   "file_extension": ".py",
   "mimetype": "text/x-python",
   "name": "python",
   "nbconvert_exporter": "python",
   "pygments_lexer": "ipython3",
   "version": "3.8.16"
  }
 },
 "nbformat": 4,
 "nbformat_minor": 5
}
